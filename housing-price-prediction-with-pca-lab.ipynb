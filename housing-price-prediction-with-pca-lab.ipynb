{
 "cells": [
  {
   "cell_type": "markdown",
   "metadata": {
    "papermill": {
     "duration": 0.036459,
     "end_time": "2025-09-29T20:28:50.033609",
     "exception": false,
     "start_time": "2025-09-29T20:28:49.997150",
     "status": "completed"
    },
    "tags": []
   },
   "source": [
    "### Importing and Understanding Data"
   ]
  },
  {
   "cell_type": "code",
   "execution_count": 1,
   "metadata": {
    "execution": {
     "iopub.execute_input": "2025-09-29T20:28:50.111020Z",
     "iopub.status.busy": "2025-09-29T20:28:50.109884Z",
     "iopub.status.idle": "2025-09-29T20:28:50.113690Z",
     "shell.execute_reply": "2025-09-29T20:28:50.112999Z",
     "shell.execute_reply.started": "2024-11-25T06:03:39.148804Z"
    },
    "jupyter": {
     "source_hidden": true
    },
    "papermill": {
     "duration": 0.045129,
     "end_time": "2025-09-29T20:28:50.113814",
     "exception": false,
     "start_time": "2025-09-29T20:28:50.068685",
     "status": "completed"
    },
    "tags": []
   },
   "outputs": [],
   "source": [
    "import pandas as pd\n",
    "import numpy as np"
   ]
  },
  {
   "cell_type": "code",
   "execution_count": 2,
   "metadata": {
    "execution": {
     "iopub.execute_input": "2025-09-29T20:28:50.204654Z",
     "iopub.status.busy": "2025-09-29T20:28:50.203918Z",
     "iopub.status.idle": "2025-09-29T20:28:50.217269Z",
     "shell.execute_reply": "2025-09-29T20:28:50.216461Z",
     "shell.execute_reply.started": "2024-11-25T06:03:39.159055Z"
    },
    "papermill": {
     "duration": 0.068008,
     "end_time": "2025-09-29T20:28:50.217403",
     "exception": false,
     "start_time": "2025-09-29T20:28:50.149395",
     "status": "completed"
    },
    "tags": []
   },
   "outputs": [],
   "source": [
    "# Importing Housing.csv\n",
    "housing = pd.read_csv('/kaggle/input/housing/newhousing.csv')"
   ]
  },
  {
   "cell_type": "code",
   "execution_count": 3,
   "metadata": {
    "execution": {
     "iopub.execute_input": "2025-09-29T20:28:50.307645Z",
     "iopub.status.busy": "2025-09-29T20:28:50.305693Z",
     "iopub.status.idle": "2025-09-29T20:28:50.320665Z",
     "shell.execute_reply": "2025-09-29T20:28:50.320115Z",
     "shell.execute_reply.started": "2024-11-25T06:03:39.183424Z"
    },
    "papermill": {
     "duration": 0.067093,
     "end_time": "2025-09-29T20:28:50.320783",
     "exception": false,
     "start_time": "2025-09-29T20:28:50.253690",
     "status": "completed"
    },
    "tags": []
   },
   "outputs": [
    {
     "data": {
      "text/html": [
       "<div>\n",
       "<style scoped>\n",
       "    .dataframe tbody tr th:only-of-type {\n",
       "        vertical-align: middle;\n",
       "    }\n",
       "\n",
       "    .dataframe tbody tr th {\n",
       "        vertical-align: top;\n",
       "    }\n",
       "\n",
       "    .dataframe thead th {\n",
       "        text-align: right;\n",
       "    }\n",
       "</style>\n",
       "<table border=\"1\" class=\"dataframe\">\n",
       "  <thead>\n",
       "    <tr style=\"text-align: right;\">\n",
       "      <th></th>\n",
       "      <th>price</th>\n",
       "      <th>area</th>\n",
       "      <th>bedrooms</th>\n",
       "      <th>bathrooms</th>\n",
       "      <th>stories</th>\n",
       "      <th>mainroad</th>\n",
       "      <th>guestroom</th>\n",
       "      <th>basement</th>\n",
       "      <th>hotwaterheating</th>\n",
       "      <th>airconditioning</th>\n",
       "      <th>parking</th>\n",
       "      <th>prefarea</th>\n",
       "      <th>semi-furnished</th>\n",
       "      <th>unfurnished</th>\n",
       "      <th>areaperbedroom</th>\n",
       "      <th>bbratio</th>\n",
       "    </tr>\n",
       "  </thead>\n",
       "  <tbody>\n",
       "    <tr>\n",
       "      <th>0</th>\n",
       "      <td>5250000</td>\n",
       "      <td>5500</td>\n",
       "      <td>3</td>\n",
       "      <td>2</td>\n",
       "      <td>1</td>\n",
       "      <td>1</td>\n",
       "      <td>0</td>\n",
       "      <td>1</td>\n",
       "      <td>0</td>\n",
       "      <td>0</td>\n",
       "      <td>0</td>\n",
       "      <td>0</td>\n",
       "      <td>1</td>\n",
       "      <td>0</td>\n",
       "      <td>1833.333333</td>\n",
       "      <td>0.666667</td>\n",
       "    </tr>\n",
       "    <tr>\n",
       "      <th>1</th>\n",
       "      <td>4480000</td>\n",
       "      <td>4040</td>\n",
       "      <td>3</td>\n",
       "      <td>1</td>\n",
       "      <td>2</td>\n",
       "      <td>1</td>\n",
       "      <td>0</td>\n",
       "      <td>0</td>\n",
       "      <td>0</td>\n",
       "      <td>0</td>\n",
       "      <td>1</td>\n",
       "      <td>0</td>\n",
       "      <td>1</td>\n",
       "      <td>0</td>\n",
       "      <td>1346.666667</td>\n",
       "      <td>0.333333</td>\n",
       "    </tr>\n",
       "    <tr>\n",
       "      <th>2</th>\n",
       "      <td>3570000</td>\n",
       "      <td>3640</td>\n",
       "      <td>2</td>\n",
       "      <td>1</td>\n",
       "      <td>1</td>\n",
       "      <td>1</td>\n",
       "      <td>0</td>\n",
       "      <td>0</td>\n",
       "      <td>0</td>\n",
       "      <td>0</td>\n",
       "      <td>0</td>\n",
       "      <td>0</td>\n",
       "      <td>0</td>\n",
       "      <td>1</td>\n",
       "      <td>1820.000000</td>\n",
       "      <td>0.500000</td>\n",
       "    </tr>\n",
       "    <tr>\n",
       "      <th>3</th>\n",
       "      <td>2870000</td>\n",
       "      <td>3040</td>\n",
       "      <td>2</td>\n",
       "      <td>1</td>\n",
       "      <td>1</td>\n",
       "      <td>0</td>\n",
       "      <td>0</td>\n",
       "      <td>0</td>\n",
       "      <td>0</td>\n",
       "      <td>0</td>\n",
       "      <td>0</td>\n",
       "      <td>0</td>\n",
       "      <td>0</td>\n",
       "      <td>1</td>\n",
       "      <td>1520.000000</td>\n",
       "      <td>0.500000</td>\n",
       "    </tr>\n",
       "    <tr>\n",
       "      <th>4</th>\n",
       "      <td>3570000</td>\n",
       "      <td>4500</td>\n",
       "      <td>2</td>\n",
       "      <td>1</td>\n",
       "      <td>1</td>\n",
       "      <td>0</td>\n",
       "      <td>0</td>\n",
       "      <td>0</td>\n",
       "      <td>0</td>\n",
       "      <td>0</td>\n",
       "      <td>0</td>\n",
       "      <td>0</td>\n",
       "      <td>0</td>\n",
       "      <td>0</td>\n",
       "      <td>2250.000000</td>\n",
       "      <td>0.500000</td>\n",
       "    </tr>\n",
       "  </tbody>\n",
       "</table>\n",
       "</div>"
      ],
      "text/plain": [
       "     price  area  bedrooms  bathrooms  stories  mainroad  guestroom  basement  \\\n",
       "0  5250000  5500         3          2        1         1          0         1   \n",
       "1  4480000  4040         3          1        2         1          0         0   \n",
       "2  3570000  3640         2          1        1         1          0         0   \n",
       "3  2870000  3040         2          1        1         0          0         0   \n",
       "4  3570000  4500         2          1        1         0          0         0   \n",
       "\n",
       "   hotwaterheating  airconditioning  parking  prefarea  semi-furnished  \\\n",
       "0                0                0        0         0               1   \n",
       "1                0                0        1         0               1   \n",
       "2                0                0        0         0               0   \n",
       "3                0                0        0         0               0   \n",
       "4                0                0        0         0               0   \n",
       "\n",
       "   unfurnished  areaperbedroom   bbratio  \n",
       "0            0     1833.333333  0.666667  \n",
       "1            0     1346.666667  0.333333  \n",
       "2            1     1820.000000  0.500000  \n",
       "3            1     1520.000000  0.500000  \n",
       "4            0     2250.000000  0.500000  "
      ]
     },
     "execution_count": 3,
     "metadata": {},
     "output_type": "execute_result"
    }
   ],
   "source": [
    "# Looking at the first five rows\n",
    "housing.head()"
   ]
  },
  {
   "cell_type": "code",
   "execution_count": 4,
   "metadata": {
    "execution": {
     "iopub.execute_input": "2025-09-29T20:28:50.398670Z",
     "iopub.status.busy": "2025-09-29T20:28:50.397874Z",
     "iopub.status.idle": "2025-09-29T20:28:50.402910Z",
     "shell.execute_reply": "2025-09-29T20:28:50.402270Z",
     "shell.execute_reply.started": "2024-11-25T06:03:39.211890Z"
    },
    "papermill": {
     "duration": 0.045678,
     "end_time": "2025-09-29T20:28:50.403066",
     "exception": false,
     "start_time": "2025-09-29T20:28:50.357388",
     "status": "completed"
    },
    "tags": []
   },
   "outputs": [
    {
     "data": {
      "text/plain": [
       "(545, 16)"
      ]
     },
     "execution_count": 4,
     "metadata": {},
     "output_type": "execute_result"
    }
   ],
   "source": [
    "housing.shape"
   ]
  },
  {
   "cell_type": "code",
   "execution_count": 5,
   "metadata": {
    "execution": {
     "iopub.execute_input": "2025-09-29T20:28:50.489536Z",
     "iopub.status.busy": "2025-09-29T20:28:50.488747Z",
     "iopub.status.idle": "2025-09-29T20:28:50.492652Z",
     "shell.execute_reply": "2025-09-29T20:28:50.491959Z",
     "shell.execute_reply.started": "2024-11-25T06:03:39.219061Z"
    },
    "papermill": {
     "duration": 0.054029,
     "end_time": "2025-09-29T20:28:50.492772",
     "exception": false,
     "start_time": "2025-09-29T20:28:50.438743",
     "status": "completed"
    },
    "tags": []
   },
   "outputs": [
    {
     "name": "stdout",
     "output_type": "stream",
     "text": [
      "<class 'pandas.core.frame.DataFrame'>\n",
      "RangeIndex: 545 entries, 0 to 544\n",
      "Data columns (total 16 columns):\n",
      " #   Column           Non-Null Count  Dtype  \n",
      "---  ------           --------------  -----  \n",
      " 0   price            545 non-null    int64  \n",
      " 1   area             545 non-null    int64  \n",
      " 2   bedrooms         545 non-null    int64  \n",
      " 3   bathrooms        545 non-null    int64  \n",
      " 4   stories          545 non-null    int64  \n",
      " 5   mainroad         545 non-null    int64  \n",
      " 6   guestroom        545 non-null    int64  \n",
      " 7   basement         545 non-null    int64  \n",
      " 8   hotwaterheating  545 non-null    int64  \n",
      " 9   airconditioning  545 non-null    int64  \n",
      " 10  parking          545 non-null    int64  \n",
      " 11  prefarea         545 non-null    int64  \n",
      " 12  semi-furnished   545 non-null    int64  \n",
      " 13  unfurnished      545 non-null    int64  \n",
      " 14  areaperbedroom   545 non-null    float64\n",
      " 15  bbratio          545 non-null    float64\n",
      "dtypes: float64(2), int64(14)\n",
      "memory usage: 68.2 KB\n"
     ]
    }
   ],
   "source": [
    "# What type of values are stored in the columns?\n",
    "housing.info()"
   ]
  },
  {
   "cell_type": "markdown",
   "metadata": {
    "papermill": {
     "duration": 0.037597,
     "end_time": "2025-09-29T20:28:50.566156",
     "exception": false,
     "start_time": "2025-09-29T20:28:50.528559",
     "status": "completed"
    },
    "tags": []
   },
   "source": [
    "## Splitting Data into Training and Testing Sets"
   ]
  },
  {
   "cell_type": "code",
   "execution_count": 6,
   "metadata": {
    "execution": {
     "iopub.execute_input": "2025-09-29T20:28:50.645505Z",
     "iopub.status.busy": "2025-09-29T20:28:50.644364Z",
     "iopub.status.idle": "2025-09-29T20:28:50.649248Z",
     "shell.execute_reply": "2025-09-29T20:28:50.648520Z",
     "shell.execute_reply.started": "2024-11-25T06:03:39.242243Z"
    },
    "papermill": {
     "duration": 0.046549,
     "end_time": "2025-09-29T20:28:50.649379",
     "exception": false,
     "start_time": "2025-09-29T20:28:50.602830",
     "status": "completed"
    },
    "tags": []
   },
   "outputs": [
    {
     "data": {
      "text/plain": [
       "Index(['price', 'area', 'bedrooms', 'bathrooms', 'stories', 'mainroad',\n",
       "       'guestroom', 'basement', 'hotwaterheating', 'airconditioning',\n",
       "       'parking', 'prefarea', 'semi-furnished', 'unfurnished',\n",
       "       'areaperbedroom', 'bbratio'],\n",
       "      dtype='object')"
      ]
     },
     "execution_count": 6,
     "metadata": {},
     "output_type": "execute_result"
    }
   ],
   "source": [
    "housing.columns"
   ]
  },
  {
   "cell_type": "code",
   "execution_count": 7,
   "metadata": {
    "execution": {
     "iopub.execute_input": "2025-09-29T20:28:50.731086Z",
     "iopub.status.busy": "2025-09-29T20:28:50.730325Z",
     "iopub.status.idle": "2025-09-29T20:28:50.733434Z",
     "shell.execute_reply": "2025-09-29T20:28:50.732824Z",
     "shell.execute_reply.started": "2024-11-25T06:03:39.257185Z"
    },
    "papermill": {
     "duration": 0.046936,
     "end_time": "2025-09-29T20:28:50.733566",
     "exception": false,
     "start_time": "2025-09-29T20:28:50.686630",
     "status": "completed"
    },
    "tags": []
   },
   "outputs": [],
   "source": [
    "# Putting feature variable to X\n",
    "X = housing[['area', 'bedrooms', 'bathrooms', 'stories', 'mainroad',\n",
    "       'guestroom', 'basement', 'hotwaterheating', 'airconditioning',\n",
    "       'parking', 'prefarea', 'semi-furnished', 'unfurnished',\n",
    "       'areaperbedroom', 'bbratio']]\n",
    "\n",
    "# Putting response variable to y\n",
    "y = housing['price']"
   ]
  },
  {
   "cell_type": "code",
   "execution_count": 8,
   "metadata": {
    "execution": {
     "iopub.execute_input": "2025-09-29T20:28:50.814042Z",
     "iopub.status.busy": "2025-09-29T20:28:50.813264Z",
     "iopub.status.idle": "2025-09-29T20:28:52.005770Z",
     "shell.execute_reply": "2025-09-29T20:28:52.005192Z",
     "shell.execute_reply.started": "2024-11-25T06:03:39.274208Z"
    },
    "papermill": {
     "duration": 1.235322,
     "end_time": "2025-09-29T20:28:52.005890",
     "exception": false,
     "start_time": "2025-09-29T20:28:50.770568",
     "status": "completed"
    },
    "tags": []
   },
   "outputs": [
    {
     "data": {
      "image/png": "[encoded data removed]",
      "text/plain": [
       "<Figure size 432x288 with 1 Axes>"
      ]
     },
     "metadata": {
      "needs_background": "light"
     },
     "output_type": "display_data"
    }
   ],
   "source": [
    "import seaborn as sns\n",
    "import matplotlib.pyplot as plt\n",
    "sns.distplot(y)\n",
    "plt.show()"
   ]
  },
  {
   "cell_type": "code",
   "execution_count": 9,
   "metadata": {
    "execution": {
     "iopub.execute_input": "2025-09-29T20:28:52.099948Z",
     "iopub.status.busy": "2025-09-29T20:28:52.098866Z",
     "iopub.status.idle": "2025-09-29T20:28:52.104792Z",
     "shell.execute_reply": "2025-09-29T20:28:52.103867Z",
     "shell.execute_reply.started": "2024-11-25T06:03:40.391085Z"
    },
    "papermill": {
     "duration": 0.060345,
     "end_time": "2025-09-29T20:28:52.104967",
     "exception": false,
     "start_time": "2025-09-29T20:28:52.044622",
     "status": "completed"
    },
    "tags": []
   },
   "outputs": [
    {
     "data": {
      "text/plain": [
       "1.2122388370279804"
      ]
     },
     "execution_count": 9,
     "metadata": {},
     "output_type": "execute_result"
    }
   ],
   "source": [
    "y.skew()"
   ]
  },
  {
   "cell_type": "code",
   "execution_count": 10,
   "metadata": {
    "execution": {
     "iopub.execute_input": "2025-09-29T20:28:52.197384Z",
     "iopub.status.busy": "2025-09-29T20:28:52.195481Z",
     "iopub.status.idle": "2025-09-29T20:28:52.205197Z",
     "shell.execute_reply": "2025-09-29T20:28:52.204468Z",
     "shell.execute_reply.started": "2024-11-25T06:03:40.399360Z"
    },
    "papermill": {
     "duration": 0.056954,
     "end_time": "2025-09-29T20:28:52.205326",
     "exception": false,
     "start_time": "2025-09-29T20:28:52.148372",
     "status": "completed"
    },
    "tags": []
   },
   "outputs": [],
   "source": [
    "from scipy import stats\n",
    "y=stats.boxcox(y)[0]"
   ]
  },
  {
   "cell_type": "code",
   "execution_count": 11,
   "metadata": {
    "execution": {
     "iopub.execute_input": "2025-09-29T20:28:52.317506Z",
     "iopub.status.busy": "2025-09-29T20:28:52.316682Z",
     "iopub.status.idle": "2025-09-29T20:28:52.489915Z",
     "shell.execute_reply": "2025-09-29T20:28:52.489231Z",
     "shell.execute_reply.started": "2024-11-25T06:03:40.413753Z"
    },
    "papermill": {
     "duration": 0.231909,
     "end_time": "2025-09-29T20:28:52.490081",
     "exception": false,
     "start_time": "2025-09-29T20:28:52.258172",
     "status": "completed"
    },
    "tags": []
   },
   "outputs": [
    {
     "data": {
      "image/png": "[encoded data removed]",
      "text/plain": [
       "<Figure size 432x288 with 1 Axes>"
      ]
     },
     "metadata": {
      "needs_background": "light"
     },
     "output_type": "display_data"
    }
   ],
   "source": [
    "sns.distplot(y)\n",
    "plt.show()"
   ]
  },
  {
   "cell_type": "code",
   "execution_count": 12,
   "metadata": {
    "execution": {
     "iopub.execute_input": "2025-09-29T20:28:52.580534Z",
     "iopub.status.busy": "2025-09-29T20:28:52.577141Z",
     "iopub.status.idle": "2025-09-29T20:28:53.688158Z",
     "shell.execute_reply": "2025-09-29T20:28:53.688793Z",
     "shell.execute_reply.started": "2024-11-25T06:03:40.579950Z"
    },
    "papermill": {
     "duration": 1.159994,
     "end_time": "2025-09-29T20:28:53.688948",
     "exception": false,
     "start_time": "2025-09-29T20:28:52.528954",
     "status": "completed"
    },
    "tags": []
   },
   "outputs": [
    {
     "data": {
      "image/png": "[encoded data removed]",
      "text/plain": [
       "<Figure size 1152x720 with 2 Axes>"
      ]
     },
     "metadata": {
      "needs_background": "light"
     },
     "output_type": "display_data"
    }
   ],
   "source": [
    "# Importing matplotlib and seaborn\n",
    "import matplotlib.pyplot as plt\n",
    "import seaborn as sns\n",
    "%matplotlib inline\n",
    "# Let's see the correlation matrix \n",
    "plt.figure(figsize = (16,10))     # Size of the figure\n",
    "sns.heatmap(X.corr(),annot = True)\n",
    "plt.show()"
   ]
  },
  {
   "cell_type": "code",
   "execution_count": 13,
   "metadata": {
    "execution": {
     "iopub.execute_input": "2025-09-29T20:28:53.782781Z",
     "iopub.status.busy": "2025-09-29T20:28:53.781412Z",
     "iopub.status.idle": "2025-09-29T20:28:53.787536Z",
     "shell.execute_reply": "2025-09-29T20:28:53.786724Z",
     "shell.execute_reply.started": "2024-11-25T06:03:41.659523Z"
    },
    "papermill": {
     "duration": 0.055429,
     "end_time": "2025-09-29T20:28:53.787670",
     "exception": false,
     "start_time": "2025-09-29T20:28:53.732241",
     "status": "completed"
    },
    "tags": []
   },
   "outputs": [],
   "source": [
    "#creating correlation matrix for the given data\n",
    "corrmat = np.corrcoef(X.transpose())"
   ]
  },
  {
   "cell_type": "code",
   "execution_count": 14,
   "metadata": {
    "execution": {
     "iopub.execute_input": "2025-09-29T20:28:53.878657Z",
     "iopub.status.busy": "2025-09-29T20:28:53.877564Z",
     "iopub.status.idle": "2025-09-29T20:28:53.881534Z",
     "shell.execute_reply": "2025-09-29T20:28:53.880791Z",
     "shell.execute_reply.started": "2024-11-25T06:03:41.667874Z"
    },
    "papermill": {
     "duration": 0.051026,
     "end_time": "2025-09-29T20:28:53.881657",
     "exception": false,
     "start_time": "2025-09-29T20:28:53.830631",
     "status": "completed"
    },
    "tags": []
   },
   "outputs": [],
   "source": [
    "#Make a diagonal matrix with diagonal entry of Matrix corrmat\n",
    "p=np.diagflat(corrmat.diagonal())"
   ]
  },
  {
   "cell_type": "code",
   "execution_count": 15,
   "metadata": {
    "execution": {
     "iopub.execute_input": "2025-09-29T20:28:53.973163Z",
     "iopub.status.busy": "2025-09-29T20:28:53.972238Z",
     "iopub.status.idle": "2025-09-29T20:28:53.976236Z",
     "shell.execute_reply": "2025-09-29T20:28:53.976762Z",
     "shell.execute_reply.started": "2024-11-25T06:03:41.678697Z"
    },
    "papermill": {
     "duration": 0.052187,
     "end_time": "2025-09-29T20:28:53.976911",
     "exception": false,
     "start_time": "2025-09-29T20:28:53.924724",
     "status": "completed"
    },
    "tags": []
   },
   "outputs": [
    {
     "name": "stdout",
     "output_type": "stream",
     "text": [
      "max corr: 0.8056104195904634 , min corr:  -0.5884049771343838\n"
     ]
    }
   ],
   "source": [
    "# subtract diagonal entries making all diagonals 0\n",
    "corrmat_diag_zero = corrmat - p\n",
    "print(\"max corr:\",corrmat_diag_zero.max(), \", min corr: \", corrmat_diag_zero.min(),)\n"
   ]
  },
  {
   "cell_type": "code",
   "execution_count": null,
   "metadata": {
    "papermill": {
     "duration": 0.041512,
     "end_time": "2025-09-29T20:28:54.060919",
     "exception": false,
     "start_time": "2025-09-29T20:28:54.019407",
     "status": "completed"
    },
    "tags": []
   },
   "outputs": [],
   "source": []
  },
  {
   "cell_type": "code",
   "execution_count": 16,
   "metadata": {
    "execution": {
     "iopub.execute_input": "2025-09-29T20:28:54.156240Z",
     "iopub.status.busy": "2025-09-29T20:28:54.155302Z",
     "iopub.status.idle": "2025-09-29T20:28:54.159350Z",
     "shell.execute_reply": "2025-09-29T20:28:54.158766Z",
     "shell.execute_reply.started": "2024-11-25T06:03:41.689129Z"
    },
    "papermill": {
     "duration": 0.052713,
     "end_time": "2025-09-29T20:28:54.159471",
     "exception": false,
     "start_time": "2025-09-29T20:28:54.106758",
     "status": "completed"
    },
    "tags": []
   },
   "outputs": [
    {
     "name": "stdout",
     "output_type": "stream",
     "text": [
      "ij_max (0, 13)\n",
      "Maximum correlation : 0.8056104195904634\n"
     ]
    }
   ],
   "source": [
    "# Retrieve the (i,j) index for which matrix has maximum value\n",
    "ij_max = np.unravel_index(corrmat_diag_zero.argmax(), corrmat_diag_zero.shape)\n",
    "print(\"ij_max\",ij_max)\n",
    "print(\"Maximum correlation :\",corrmat_diag_zero[ij_max])"
   ]
  },
  {
   "cell_type": "code",
   "execution_count": 17,
   "metadata": {
    "execution": {
     "iopub.execute_input": "2025-09-29T20:28:54.254455Z",
     "iopub.status.busy": "2025-09-29T20:28:54.253723Z",
     "iopub.status.idle": "2025-09-29T20:28:54.258311Z",
     "shell.execute_reply": "2025-09-29T20:28:54.258873Z",
     "shell.execute_reply.started": "2024-11-25T06:03:41.706467Z"
    },
    "papermill": {
     "duration": 0.054746,
     "end_time": "2025-09-29T20:28:54.259063",
     "exception": false,
     "start_time": "2025-09-29T20:28:54.204317",
     "status": "completed"
    },
    "tags": []
   },
   "outputs": [
    {
     "name": "stdout",
     "output_type": "stream",
     "text": [
      "ij_min (3, 11)\n",
      "Minimum correlation : -0.003648304604063493\n"
     ]
    }
   ],
   "source": [
    "# Retrieve the (i,j) index for which matrix has absolute minimum value\n",
    "ij_min = np.unravel_index(np.absolute(corrmat).argmin(), corrmat.shape)\n",
    "print(\"ij_min\",ij_min)\n",
    "print(\"Minimum correlation :\",corrmat_diag_zero[ij_min])"
   ]
  },
  {
   "cell_type": "code",
   "execution_count": 18,
   "metadata": {
    "execution": {
     "iopub.execute_input": "2025-09-29T20:28:54.355760Z",
     "iopub.status.busy": "2025-09-29T20:28:54.354908Z",
     "iopub.status.idle": "2025-09-29T20:28:54.483500Z",
     "shell.execute_reply": "2025-09-29T20:28:54.482865Z",
     "shell.execute_reply.started": "2024-11-25T06:03:41.717670Z"
    },
    "papermill": {
     "duration": 0.180128,
     "end_time": "2025-09-29T20:28:54.483626",
     "exception": false,
     "start_time": "2025-09-29T20:28:54.303498",
     "status": "completed"
    },
    "tags": []
   },
   "outputs": [],
   "source": [
    "#random_state is the seed used by the random number generator, it can be any integer.\n",
    "from sklearn.model_selection import train_test_split\n",
    "X_train, X_test, y_train, y_test = train_test_split(X, y, train_size=0.7, random_state=42)\n",
    "\n",
    "from sklearn.preprocessing import PowerTransformer\n"
   ]
  },
  {
   "cell_type": "code",
   "execution_count": 19,
   "metadata": {
    "execution": {
     "iopub.execute_input": "2025-09-29T20:28:54.577258Z",
     "iopub.status.busy": "2025-09-29T20:28:54.576355Z",
     "iopub.status.idle": "2025-09-29T20:28:54.580903Z",
     "shell.execute_reply": "2025-09-29T20:28:54.581453Z",
     "shell.execute_reply.started": "2024-11-25T06:03:41.839604Z"
    },
    "papermill": {
     "duration": 0.053964,
     "end_time": "2025-09-29T20:28:54.581622",
     "exception": false,
     "start_time": "2025-09-29T20:28:54.527658",
     "status": "completed"
    },
    "tags": []
   },
   "outputs": [
    {
     "data": {
      "text/plain": [
       "(381, 15)"
      ]
     },
     "execution_count": 19,
     "metadata": {},
     "output_type": "execute_result"
    }
   ],
   "source": [
    "X_train.shape\n",
    "# We have 15 variables after splitting the data"
   ]
  },
  {
   "cell_type": "code",
   "execution_count": 20,
   "metadata": {
    "execution": {
     "iopub.execute_input": "2025-09-29T20:28:54.717684Z",
     "iopub.status.busy": "2025-09-29T20:28:54.716522Z",
     "iopub.status.idle": "2025-09-29T20:28:54.725749Z",
     "shell.execute_reply": "2025-09-29T20:28:54.725040Z",
     "shell.execute_reply.started": "2024-11-25T06:03:41.847022Z"
    },
    "papermill": {
     "duration": 0.099697,
     "end_time": "2025-09-29T20:28:54.725871",
     "exception": false,
     "start_time": "2025-09-29T20:28:54.626174",
     "status": "completed"
    },
    "tags": []
   },
   "outputs": [],
   "source": [
    "scaler = PowerTransformer()\n",
    "Xtrain=scaler.fit_transform(X_train) \n",
    "Xtest=scaler.transform(X_test) "
   ]
  },
  {
   "cell_type": "code",
   "execution_count": 21,
   "metadata": {
    "execution": {
     "iopub.execute_input": "2025-09-29T20:28:54.817354Z",
     "iopub.status.busy": "2025-09-29T20:28:54.816514Z",
     "iopub.status.idle": "2025-09-29T20:28:54.820262Z",
     "shell.execute_reply": "2025-09-29T20:28:54.820749Z",
     "shell.execute_reply.started": "2024-11-25T06:03:41.902518Z"
    },
    "papermill": {
     "duration": 0.052037,
     "end_time": "2025-09-29T20:28:54.820908",
     "exception": false,
     "start_time": "2025-09-29T20:28:54.768871",
     "status": "completed"
    },
    "tags": []
   },
   "outputs": [
    {
     "data": {
      "text/plain": [
       "(381, 15)"
      ]
     },
     "execution_count": 21,
     "metadata": {},
     "output_type": "execute_result"
    }
   ],
   "source": [
    "Xtrain.shape"
   ]
  },
  {
   "cell_type": "code",
   "execution_count": 22,
   "metadata": {
    "execution": {
     "iopub.execute_input": "2025-09-29T20:28:54.916902Z",
     "iopub.status.busy": "2025-09-29T20:28:54.915783Z",
     "iopub.status.idle": "2025-09-29T20:28:54.920193Z",
     "shell.execute_reply": "2025-09-29T20:28:54.919501Z",
     "shell.execute_reply.started": "2024-11-25T06:03:41.915279Z"
    },
    "papermill": {
     "duration": 0.056133,
     "end_time": "2025-09-29T20:28:54.920317",
     "exception": false,
     "start_time": "2025-09-29T20:28:54.864184",
     "status": "completed"
    },
    "tags": []
   },
   "outputs": [
    {
     "data": {
      "text/plain": [
       "2.873470816532277"
      ]
     },
     "execution_count": 22,
     "metadata": {},
     "output_type": "execute_result"
    }
   ],
   "source": [
    "xtrain_df = pd.DataFrame(Xtrain,columns=X_train.columns)\n",
    "Xtrain[:,0].max()\n",
    "xtrain_df['area'].max()"
   ]
  },
  {
   "cell_type": "code",
   "execution_count": 23,
   "metadata": {
    "execution": {
     "iopub.execute_input": "2025-09-29T20:28:55.015054Z",
     "iopub.status.busy": "2025-09-29T20:28:55.013948Z",
     "iopub.status.idle": "2025-09-29T20:28:55.018688Z",
     "shell.execute_reply": "2025-09-29T20:28:55.017967Z",
     "shell.execute_reply.started": "2024-11-25T06:03:41.932551Z"
    },
    "papermill": {
     "duration": 0.054892,
     "end_time": "2025-09-29T20:28:55.018810",
     "exception": false,
     "start_time": "2025-09-29T20:28:54.963918",
     "status": "completed"
    },
    "tags": []
   },
   "outputs": [
    {
     "data": {
      "text/plain": [
       "(381,)"
      ]
     },
     "execution_count": 23,
     "metadata": {},
     "output_type": "execute_result"
    }
   ],
   "source": [
    "y_train.shape"
   ]
  },
  {
   "cell_type": "code",
   "execution_count": 24,
   "metadata": {
    "execution": {
     "iopub.execute_input": "2025-09-29T20:28:55.120083Z",
     "iopub.status.busy": "2025-09-29T20:28:55.119039Z",
     "iopub.status.idle": "2025-09-29T20:28:55.123409Z",
     "shell.execute_reply": "2025-09-29T20:28:55.122666Z",
     "shell.execute_reply.started": "2024-11-25T06:03:41.949311Z"
    },
    "papermill": {
     "duration": 0.058446,
     "end_time": "2025-09-29T20:28:55.123537",
     "exception": false,
     "start_time": "2025-09-29T20:28:55.065091",
     "status": "completed"
    },
    "tags": []
   },
   "outputs": [
    {
     "data": {
      "text/plain": [
       "-0.4661034178872047"
      ]
     },
     "execution_count": 24,
     "metadata": {},
     "output_type": "execute_result"
    }
   ],
   "source": [
    "xtest_df = pd.DataFrame(Xtest,columns=X_train.columns)\n",
    "xtest_df['guestroom'].min()"
   ]
  },
  {
   "cell_type": "code",
   "execution_count": 25,
   "metadata": {
    "execution": {
     "iopub.execute_input": "2025-09-29T20:28:55.219380Z",
     "iopub.status.busy": "2025-09-29T20:28:55.218649Z",
     "iopub.status.idle": "2025-09-29T20:28:55.351503Z",
     "shell.execute_reply": "2025-09-29T20:28:55.349955Z",
     "shell.execute_reply.started": "2024-11-25T06:03:41.958064Z"
    },
    "papermill": {
     "duration": 0.183615,
     "end_time": "2025-09-29T20:28:55.351810",
     "exception": false,
     "start_time": "2025-09-29T20:28:55.168195",
     "status": "completed"
    },
    "tags": []
   },
   "outputs": [],
   "source": [
    "import matplotlib.pyplot as plt\n",
    "import numpy as np\n",
    "from sklearn import  linear_model\n",
    "from sklearn.metrics import mean_squared_error, r2_score\n",
    "# Create linear regression object\n",
    "regr = linear_model.LinearRegression()\n",
    "# Train the model using the training sets\n",
    "regr.fit(Xtrain, y_train)\n",
    "# Make predictions using the testing set\n",
    "y_pred = regr.predict(Xtest)"
   ]
  },
  {
   "cell_type": "code",
   "execution_count": 26,
   "metadata": {
    "execution": {
     "iopub.execute_input": "2025-09-29T20:28:55.456008Z",
     "iopub.status.busy": "2025-09-29T20:28:55.455157Z",
     "iopub.status.idle": "2025-09-29T20:28:55.458951Z",
     "shell.execute_reply": "2025-09-29T20:28:55.458434Z",
     "shell.execute_reply.started": "2024-11-25T06:03:42.075730Z"
    },
    "papermill": {
     "duration": 0.057482,
     "end_time": "2025-09-29T20:28:55.459093",
     "exception": false,
     "start_time": "2025-09-29T20:28:55.401611",
     "status": "completed"
    },
    "tags": []
   },
   "outputs": [
    {
     "name": "stdout",
     "output_type": "stream",
     "text": [
      "Mean squared error: 0.00\n"
     ]
    }
   ],
   "source": [
    "print(\"Mean squared error: %.2f\" % mean_squared_error(y_test, y_pred))\n"
   ]
  },
  {
   "cell_type": "code",
   "execution_count": 27,
   "metadata": {
    "execution": {
     "iopub.execute_input": "2025-09-29T20:28:55.558240Z",
     "iopub.status.busy": "2025-09-29T20:28:55.557385Z",
     "iopub.status.idle": "2025-09-29T20:28:55.561147Z",
     "shell.execute_reply": "2025-09-29T20:28:55.560454Z",
     "shell.execute_reply.started": "2024-11-25T06:03:42.083461Z"
    },
    "papermill": {
     "duration": 0.056076,
     "end_time": "2025-09-29T20:28:55.561281",
     "exception": false,
     "start_time": "2025-09-29T20:28:55.505205",
     "status": "completed"
    },
    "tags": []
   },
   "outputs": [
    {
     "name": "stdout",
     "output_type": "stream",
     "text": [
      "R2 score: 0.72\n"
     ]
    }
   ],
   "source": [
    "# Explained variance score: 1 is perfect prediction\n",
    "print('R2 score: %.2f' % r2_score(y_test, y_pred))"
   ]
  },
  {
   "cell_type": "code",
   "execution_count": 28,
   "metadata": {
    "execution": {
     "iopub.execute_input": "2025-09-29T20:28:55.662821Z",
     "iopub.status.busy": "2025-09-29T20:28:55.662007Z",
     "iopub.status.idle": "2025-09-29T20:28:55.666883Z",
     "shell.execute_reply": "2025-09-29T20:28:55.666171Z",
     "shell.execute_reply.started": "2024-11-25T06:03:42.098015Z"
    },
    "papermill": {
     "duration": 0.059059,
     "end_time": "2025-09-29T20:28:55.667050",
     "exception": false,
     "start_time": "2025-09-29T20:28:55.607991",
     "status": "completed"
    },
    "tags": []
   },
   "outputs": [
    {
     "data": {
      "text/plain": [
       "0.720762511938221"
      ]
     },
     "execution_count": 28,
     "metadata": {},
     "output_type": "execute_result"
    }
   ],
   "source": [
    "from sklearn.metrics import explained_variance_score\n",
    "explained_variance_score(y_test, y_pred) "
   ]
  },
  {
   "cell_type": "code",
   "execution_count": 29,
   "metadata": {
    "execution": {
     "iopub.execute_input": "2025-09-29T20:28:55.763528Z",
     "iopub.status.busy": "2025-09-29T20:28:55.762704Z",
     "iopub.status.idle": "2025-09-29T20:28:55.798391Z",
     "shell.execute_reply": "2025-09-29T20:28:55.797531Z",
     "shell.execute_reply.started": "2024-11-25T06:03:42.112406Z"
    },
    "papermill": {
     "duration": 0.085745,
     "end_time": "2025-09-29T20:28:55.798522",
     "exception": false,
     "start_time": "2025-09-29T20:28:55.712777",
     "status": "completed"
    },
    "tags": []
   },
   "outputs": [],
   "source": [
    "#Importing the PCA module\n",
    "from sklearn.decomposition import PCA\n",
    "pca = PCA( random_state=42)"
   ]
  },
  {
   "cell_type": "code",
   "execution_count": 30,
   "metadata": {
    "execution": {
     "iopub.execute_input": "2025-09-29T20:28:55.898299Z",
     "iopub.status.busy": "2025-09-29T20:28:55.897544Z",
     "iopub.status.idle": "2025-09-29T20:28:55.905533Z",
     "shell.execute_reply": "2025-09-29T20:28:55.904780Z",
     "shell.execute_reply.started": "2024-11-25T06:03:42.151084Z"
    },
    "papermill": {
     "duration": 0.061132,
     "end_time": "2025-09-29T20:28:55.905660",
     "exception": false,
     "start_time": "2025-09-29T20:28:55.844528",
     "status": "completed"
    },
    "tags": []
   },
   "outputs": [
    {
     "data": {
      "text/plain": [
       "PCA(random_state=42)"
      ]
     },
     "execution_count": 30,
     "metadata": {},
     "output_type": "execute_result"
    }
   ],
   "source": [
    "#Doing the PCA on the train data\n",
    "pca.fit(Xtrain)"
   ]
  },
  {
   "cell_type": "code",
   "execution_count": 31,
   "metadata": {
    "execution": {
     "iopub.execute_input": "2025-09-29T20:28:56.015945Z",
     "iopub.status.busy": "2025-09-29T20:28:56.014956Z",
     "iopub.status.idle": "2025-09-29T20:28:56.020032Z",
     "shell.execute_reply": "2025-09-29T20:28:56.019449Z",
     "shell.execute_reply.started": "2024-11-25T06:03:42.165322Z"
    },
    "papermill": {
     "duration": 0.067687,
     "end_time": "2025-09-29T20:28:56.020164",
     "exception": false,
     "start_time": "2025-09-29T20:28:55.952477",
     "status": "completed"
    },
    "tags": []
   },
   "outputs": [
    {
     "data": {
      "text/html": [
       "<div>\n",
       "<style scoped>\n",
       "    .dataframe tbody tr th:only-of-type {\n",
       "        vertical-align: middle;\n",
       "    }\n",
       "\n",
       "    .dataframe tbody tr th {\n",
       "        vertical-align: top;\n",
       "    }\n",
       "\n",
       "    .dataframe thead th {\n",
       "        text-align: right;\n",
       "    }\n",
       "</style>\n",
       "<table border=\"1\" class=\"dataframe\">\n",
       "  <thead>\n",
       "    <tr style=\"text-align: right;\">\n",
       "      <th></th>\n",
       "      <th>PC1</th>\n",
       "      <th>PC2</th>\n",
       "      <th>Feature</th>\n",
       "    </tr>\n",
       "  </thead>\n",
       "  <tbody>\n",
       "    <tr>\n",
       "      <th>0</th>\n",
       "      <td>-0.476385</td>\n",
       "      <td>0.168827</td>\n",
       "      <td>area</td>\n",
       "    </tr>\n",
       "    <tr>\n",
       "      <th>1</th>\n",
       "      <td>-0.113266</td>\n",
       "      <td>-0.564131</td>\n",
       "      <td>bedrooms</td>\n",
       "    </tr>\n",
       "    <tr>\n",
       "      <th>2</th>\n",
       "      <td>-0.345603</td>\n",
       "      <td>-0.233689</td>\n",
       "      <td>bathrooms</td>\n",
       "    </tr>\n",
       "    <tr>\n",
       "      <th>3</th>\n",
       "      <td>-0.137810</td>\n",
       "      <td>-0.457178</td>\n",
       "      <td>stories</td>\n",
       "    </tr>\n",
       "    <tr>\n",
       "      <th>4</th>\n",
       "      <td>-0.296363</td>\n",
       "      <td>0.056469</td>\n",
       "      <td>mainroad</td>\n",
       "    </tr>\n",
       "    <tr>\n",
       "      <th>5</th>\n",
       "      <td>-0.196351</td>\n",
       "      <td>-0.086351</td>\n",
       "      <td>guestroom</td>\n",
       "    </tr>\n",
       "    <tr>\n",
       "      <th>6</th>\n",
       "      <td>-0.096615</td>\n",
       "      <td>-0.120499</td>\n",
       "      <td>basement</td>\n",
       "    </tr>\n",
       "    <tr>\n",
       "      <th>7</th>\n",
       "      <td>-0.060173</td>\n",
       "      <td>-0.013837</td>\n",
       "      <td>hotwaterheating</td>\n",
       "    </tr>\n",
       "    <tr>\n",
       "      <th>8</th>\n",
       "      <td>-0.254030</td>\n",
       "      <td>-0.128815</td>\n",
       "      <td>airconditioning</td>\n",
       "    </tr>\n",
       "    <tr>\n",
       "      <th>9</th>\n",
       "      <td>-0.304426</td>\n",
       "      <td>0.041006</td>\n",
       "      <td>parking</td>\n",
       "    </tr>\n",
       "    <tr>\n",
       "      <th>10</th>\n",
       "      <td>-0.213437</td>\n",
       "      <td>-0.053643</td>\n",
       "      <td>prefarea</td>\n",
       "    </tr>\n",
       "    <tr>\n",
       "      <th>11</th>\n",
       "      <td>-0.125277</td>\n",
       "      <td>-0.143190</td>\n",
       "      <td>semi-furnished</td>\n",
       "    </tr>\n",
       "    <tr>\n",
       "      <th>12</th>\n",
       "      <td>0.268714</td>\n",
       "      <td>0.167713</td>\n",
       "      <td>unfurnished</td>\n",
       "    </tr>\n",
       "    <tr>\n",
       "      <th>13</th>\n",
       "      <td>-0.363088</td>\n",
       "      <td>0.492485</td>\n",
       "      <td>areaperbedroom</td>\n",
       "    </tr>\n",
       "    <tr>\n",
       "      <th>14</th>\n",
       "      <td>-0.244865</td>\n",
       "      <td>0.227926</td>\n",
       "      <td>bbratio</td>\n",
       "    </tr>\n",
       "  </tbody>\n",
       "</table>\n",
       "</div>"
      ],
      "text/plain": [
       "         PC1       PC2          Feature\n",
       "0  -0.476385  0.168827             area\n",
       "1  -0.113266 -0.564131         bedrooms\n",
       "2  -0.345603 -0.233689        bathrooms\n",
       "3  -0.137810 -0.457178          stories\n",
       "4  -0.296363  0.056469         mainroad\n",
       "5  -0.196351 -0.086351        guestroom\n",
       "6  -0.096615 -0.120499         basement\n",
       "7  -0.060173 -0.013837  hotwaterheating\n",
       "8  -0.254030 -0.128815  airconditioning\n",
       "9  -0.304426  0.041006          parking\n",
       "10 -0.213437 -0.053643         prefarea\n",
       "11 -0.125277 -0.143190   semi-furnished\n",
       "12  0.268714  0.167713      unfurnished\n",
       "13 -0.363088  0.492485   areaperbedroom\n",
       "14 -0.244865  0.227926          bbratio"
      ]
     },
     "execution_count": 31,
     "metadata": {},
     "output_type": "execute_result"
    }
   ],
   "source": [
    "components = pd.DataFrame({'PC1':pca.components_[0],'PC2':pca.components_[1],'Feature':X.columns })\n",
    "components"
   ]
  },
  {
   "cell_type": "code",
   "execution_count": 32,
   "metadata": {
    "execution": {
     "iopub.execute_input": "2025-09-29T20:28:56.127470Z",
     "iopub.status.busy": "2025-09-29T20:28:56.126255Z",
     "iopub.status.idle": "2025-09-29T20:28:56.130615Z",
     "shell.execute_reply": "2025-09-29T20:28:56.129840Z",
     "shell.execute_reply.started": "2024-11-25T06:03:42.183215Z"
    },
    "papermill": {
     "duration": 0.063517,
     "end_time": "2025-09-29T20:28:56.130743",
     "exception": false,
     "start_time": "2025-09-29T20:28:56.067226",
     "status": "completed"
    },
    "tags": []
   },
   "outputs": [],
   "source": [
    "colnames = list(X_train.columns)\n",
    "pcs_df = pd.DataFrame({'PC1':pca.components_[0],'PC2':pca.components_[1],'PC3':pca.components_[2],\n",
    "                       'PC4':pca.components_[3],'PC5':pca.components_[4],\n",
    "                       'PC6':pca.components_[5],'PC7':pca.components_[6],'PC8':pca.components_[7],\n",
    "                       'PC9':pca.components_[8],'PC10':pca.components_[9],'PC11':pca.components_[10],\n",
    "                       'PC12':pca.components_[11],'PC13':pca.components_[12],\n",
    "                       'PC14':pca.components_[13],'PC15':pca.components_[14],'Feature':colnames})"
   ]
  },
  {
   "cell_type": "code",
   "execution_count": 33,
   "metadata": {
    "execution": {
     "iopub.execute_input": "2025-09-29T20:28:56.249422Z",
     "iopub.status.busy": "2025-09-29T20:28:56.248431Z",
     "iopub.status.idle": "2025-09-29T20:28:56.253786Z",
     "shell.execute_reply": "2025-09-29T20:28:56.253075Z",
     "shell.execute_reply.started": "2024-11-25T06:03:42.197124Z"
    },
    "papermill": {
     "duration": 0.075992,
     "end_time": "2025-09-29T20:28:56.253911",
     "exception": false,
     "start_time": "2025-09-29T20:28:56.177919",
     "status": "completed"
    },
    "tags": []
   },
   "outputs": [
    {
     "data": {
      "text/html": [
       "<div>\n",
       "<style scoped>\n",
       "    .dataframe tbody tr th:only-of-type {\n",
       "        vertical-align: middle;\n",
       "    }\n",
       "\n",
       "    .dataframe tbody tr th {\n",
       "        vertical-align: top;\n",
       "    }\n",
       "\n",
       "    .dataframe thead th {\n",
       "        text-align: right;\n",
       "    }\n",
       "</style>\n",
       "<table border=\"1\" class=\"dataframe\">\n",
       "  <thead>\n",
       "    <tr style=\"text-align: right;\">\n",
       "      <th></th>\n",
       "      <th>PC1</th>\n",
       "      <th>PC2</th>\n",
       "      <th>PC3</th>\n",
       "      <th>PC4</th>\n",
       "      <th>PC5</th>\n",
       "      <th>PC6</th>\n",
       "      <th>PC7</th>\n",
       "      <th>PC8</th>\n",
       "      <th>PC9</th>\n",
       "      <th>PC10</th>\n",
       "      <th>PC11</th>\n",
       "      <th>PC12</th>\n",
       "      <th>PC13</th>\n",
       "      <th>PC14</th>\n",
       "      <th>PC15</th>\n",
       "      <th>Feature</th>\n",
       "    </tr>\n",
       "  </thead>\n",
       "  <tbody>\n",
       "    <tr>\n",
       "      <th>0</th>\n",
       "      <td>-0.476385</td>\n",
       "      <td>0.168827</td>\n",
       "      <td>0.211973</td>\n",
       "      <td>0.059889</td>\n",
       "      <td>-0.242990</td>\n",
       "      <td>0.081738</td>\n",
       "      <td>0.227302</td>\n",
       "      <td>0.087901</td>\n",
       "      <td>0.110376</td>\n",
       "      <td>0.388316</td>\n",
       "      <td>-0.082254</td>\n",
       "      <td>-0.021149</td>\n",
       "      <td>0.004049</td>\n",
       "      <td>0.046567</td>\n",
       "      <td>-0.631306</td>\n",
       "      <td>area</td>\n",
       "    </tr>\n",
       "    <tr>\n",
       "      <th>1</th>\n",
       "      <td>-0.113266</td>\n",
       "      <td>-0.564131</td>\n",
       "      <td>0.121572</td>\n",
       "      <td>0.091297</td>\n",
       "      <td>-0.175047</td>\n",
       "      <td>0.190874</td>\n",
       "      <td>0.172897</td>\n",
       "      <td>-0.120514</td>\n",
       "      <td>0.065958</td>\n",
       "      <td>0.275960</td>\n",
       "      <td>-0.152319</td>\n",
       "      <td>0.278765</td>\n",
       "      <td>-0.148126</td>\n",
       "      <td>0.459344</td>\n",
       "      <td>0.346364</td>\n",
       "      <td>bedrooms</td>\n",
       "    </tr>\n",
       "    <tr>\n",
       "      <th>2</th>\n",
       "      <td>-0.345603</td>\n",
       "      <td>-0.233689</td>\n",
       "      <td>-0.486288</td>\n",
       "      <td>0.202424</td>\n",
       "      <td>0.178114</td>\n",
       "      <td>0.011087</td>\n",
       "      <td>0.008300</td>\n",
       "      <td>-0.164684</td>\n",
       "      <td>0.010468</td>\n",
       "      <td>0.221661</td>\n",
       "      <td>-0.117854</td>\n",
       "      <td>0.151800</td>\n",
       "      <td>-0.112766</td>\n",
       "      <td>-0.621126</td>\n",
       "      <td>0.069063</td>\n",
       "      <td>bathrooms</td>\n",
       "    </tr>\n",
       "    <tr>\n",
       "      <th>3</th>\n",
       "      <td>-0.137810</td>\n",
       "      <td>-0.457178</td>\n",
       "      <td>-0.101445</td>\n",
       "      <td>0.191893</td>\n",
       "      <td>-0.252196</td>\n",
       "      <td>-0.047566</td>\n",
       "      <td>-0.196465</td>\n",
       "      <td>0.218859</td>\n",
       "      <td>-0.130351</td>\n",
       "      <td>0.028418</td>\n",
       "      <td>0.230936</td>\n",
       "      <td>-0.632466</td>\n",
       "      <td>0.318224</td>\n",
       "      <td>0.009164</td>\n",
       "      <td>0.005026</td>\n",
       "      <td>stories</td>\n",
       "    </tr>\n",
       "    <tr>\n",
       "      <th>4</th>\n",
       "      <td>-0.296363</td>\n",
       "      <td>0.056469</td>\n",
       "      <td>0.181658</td>\n",
       "      <td>-0.008337</td>\n",
       "      <td>-0.186595</td>\n",
       "      <td>0.112798</td>\n",
       "      <td>-0.697290</td>\n",
       "      <td>0.032961</td>\n",
       "      <td>-0.365636</td>\n",
       "      <td>-0.172965</td>\n",
       "      <td>-0.364940</td>\n",
       "      <td>0.142790</td>\n",
       "      <td>-0.154154</td>\n",
       "      <td>-0.005490</td>\n",
       "      <td>0.009950</td>\n",
       "      <td>mainroad</td>\n",
       "    </tr>\n",
       "    <tr>\n",
       "      <th>5</th>\n",
       "      <td>-0.196351</td>\n",
       "      <td>-0.086351</td>\n",
       "      <td>0.214765</td>\n",
       "      <td>0.069800</td>\n",
       "      <td>0.475852</td>\n",
       "      <td>0.180314</td>\n",
       "      <td>0.075778</td>\n",
       "      <td>0.453980</td>\n",
       "      <td>-0.384905</td>\n",
       "      <td>0.015103</td>\n",
       "      <td>0.472689</td>\n",
       "      <td>0.215864</td>\n",
       "      <td>-0.117234</td>\n",
       "      <td>0.000693</td>\n",
       "      <td>0.006967</td>\n",
       "      <td>guestroom</td>\n",
       "    </tr>\n",
       "    <tr>\n",
       "      <th>6</th>\n",
       "      <td>-0.096615</td>\n",
       "      <td>-0.120499</td>\n",
       "      <td>0.270151</td>\n",
       "      <td>-0.094557</td>\n",
       "      <td>0.579011</td>\n",
       "      <td>0.194802</td>\n",
       "      <td>0.161091</td>\n",
       "      <td>-0.114777</td>\n",
       "      <td>-0.016806</td>\n",
       "      <td>-0.079589</td>\n",
       "      <td>-0.527605</td>\n",
       "      <td>-0.420323</td>\n",
       "      <td>0.142261</td>\n",
       "      <td>0.001605</td>\n",
       "      <td>-0.001238</td>\n",
       "      <td>basement</td>\n",
       "    </tr>\n",
       "    <tr>\n",
       "      <th>7</th>\n",
       "      <td>-0.060173</td>\n",
       "      <td>-0.013837</td>\n",
       "      <td>-0.233303</td>\n",
       "      <td>-0.268260</td>\n",
       "      <td>-0.013157</td>\n",
       "      <td>0.635756</td>\n",
       "      <td>-0.176573</td>\n",
       "      <td>0.334446</td>\n",
       "      <td>0.543563</td>\n",
       "      <td>-0.158225</td>\n",
       "      <td>0.041885</td>\n",
       "      <td>-0.002575</td>\n",
       "      <td>-0.011616</td>\n",
       "      <td>-0.003279</td>\n",
       "      <td>0.000315</td>\n",
       "      <td>hotwaterheating</td>\n",
       "    </tr>\n",
       "    <tr>\n",
       "      <th>8</th>\n",
       "      <td>-0.254030</td>\n",
       "      <td>-0.128815</td>\n",
       "      <td>0.068828</td>\n",
       "      <td>0.287863</td>\n",
       "      <td>-0.025070</td>\n",
       "      <td>-0.422378</td>\n",
       "      <td>0.187480</td>\n",
       "      <td>0.353560</td>\n",
       "      <td>0.323473</td>\n",
       "      <td>-0.567656</td>\n",
       "      <td>-0.185425</td>\n",
       "      <td>0.098122</td>\n",
       "      <td>-0.144854</td>\n",
       "      <td>0.012956</td>\n",
       "      <td>0.007644</td>\n",
       "      <td>airconditioning</td>\n",
       "    </tr>\n",
       "    <tr>\n",
       "      <th>9</th>\n",
       "      <td>-0.304426</td>\n",
       "      <td>0.041006</td>\n",
       "      <td>-0.060089</td>\n",
       "      <td>-0.058928</td>\n",
       "      <td>-0.223205</td>\n",
       "      <td>0.319725</td>\n",
       "      <td>0.339645</td>\n",
       "      <td>-0.460442</td>\n",
       "      <td>-0.248662</td>\n",
       "      <td>-0.530018</td>\n",
       "      <td>0.245282</td>\n",
       "      <td>-0.096331</td>\n",
       "      <td>-0.083359</td>\n",
       "      <td>0.002032</td>\n",
       "      <td>0.001802</td>\n",
       "      <td>parking</td>\n",
       "    </tr>\n",
       "    <tr>\n",
       "      <th>10</th>\n",
       "      <td>-0.213437</td>\n",
       "      <td>-0.053643</td>\n",
       "      <td>0.353320</td>\n",
       "      <td>0.101256</td>\n",
       "      <td>0.244054</td>\n",
       "      <td>-0.132400</td>\n",
       "      <td>-0.388407</td>\n",
       "      <td>-0.453966</td>\n",
       "      <td>0.461886</td>\n",
       "      <td>0.012338</td>\n",
       "      <td>0.408714</td>\n",
       "      <td>-0.026164</td>\n",
       "      <td>-0.032692</td>\n",
       "      <td>0.012012</td>\n",
       "      <td>-0.002535</td>\n",
       "      <td>prefarea</td>\n",
       "    </tr>\n",
       "    <tr>\n",
       "      <th>11</th>\n",
       "      <td>-0.125277</td>\n",
       "      <td>-0.143190</td>\n",
       "      <td>-0.056599</td>\n",
       "      <td>-0.636953</td>\n",
       "      <td>-0.005560</td>\n",
       "      <td>-0.304898</td>\n",
       "      <td>0.017137</td>\n",
       "      <td>0.059720</td>\n",
       "      <td>-0.020553</td>\n",
       "      <td>0.101013</td>\n",
       "      <td>0.063510</td>\n",
       "      <td>-0.283829</td>\n",
       "      <td>-0.602254</td>\n",
       "      <td>0.002410</td>\n",
       "      <td>0.010051</td>\n",
       "      <td>semi-furnished</td>\n",
       "    </tr>\n",
       "    <tr>\n",
       "      <th>12</th>\n",
       "      <td>0.268714</td>\n",
       "      <td>0.167713</td>\n",
       "      <td>0.035924</td>\n",
       "      <td>0.553931</td>\n",
       "      <td>-0.022838</td>\n",
       "      <td>0.246162</td>\n",
       "      <td>-0.008717</td>\n",
       "      <td>0.013929</td>\n",
       "      <td>0.030679</td>\n",
       "      <td>0.074927</td>\n",
       "      <td>-0.015114</td>\n",
       "      <td>-0.347169</td>\n",
       "      <td>-0.634640</td>\n",
       "      <td>-0.004930</td>\n",
       "      <td>0.006770</td>\n",
       "      <td>unfurnished</td>\n",
       "    </tr>\n",
       "    <tr>\n",
       "      <th>13</th>\n",
       "      <td>-0.363088</td>\n",
       "      <td>0.492485</td>\n",
       "      <td>0.118791</td>\n",
       "      <td>0.000921</td>\n",
       "      <td>-0.117720</td>\n",
       "      <td>-0.032622</td>\n",
       "      <td>0.114170</td>\n",
       "      <td>0.138725</td>\n",
       "      <td>0.070349</td>\n",
       "      <td>0.205238</td>\n",
       "      <td>0.012143</td>\n",
       "      <td>-0.175553</td>\n",
       "      <td>0.108158</td>\n",
       "      <td>-0.059666</td>\n",
       "      <td>0.686306</td>\n",
       "      <td>areaperbedroom</td>\n",
       "    </tr>\n",
       "    <tr>\n",
       "      <th>14</th>\n",
       "      <td>-0.244865</td>\n",
       "      <td>0.227926</td>\n",
       "      <td>-0.578961</td>\n",
       "      <td>0.123666</td>\n",
       "      <td>0.306407</td>\n",
       "      <td>-0.119794</td>\n",
       "      <td>-0.126160</td>\n",
       "      <td>-0.066459</td>\n",
       "      <td>-0.051593</td>\n",
       "      <td>0.018854</td>\n",
       "      <td>-0.008534</td>\n",
       "      <td>-0.060221</td>\n",
       "      <td>0.001710</td>\n",
       "      <td>0.630082</td>\n",
       "      <td>-0.072868</td>\n",
       "      <td>bbratio</td>\n",
       "    </tr>\n",
       "  </tbody>\n",
       "</table>\n",
       "</div>"
      ],
      "text/plain": [
       "         PC1       PC2       PC3       PC4       PC5       PC6       PC7  \\\n",
       "0  -0.476385  0.168827  0.211973  0.059889 -0.242990  0.081738  0.227302   \n",
       "1  -0.113266 -0.564131  0.121572  0.091297 -0.175047  0.190874  0.172897   \n",
       "2  -0.345603 -0.233689 -0.486288  0.202424  0.178114  0.011087  0.008300   \n",
       "3  -0.137810 -0.457178 -0.101445  0.191893 -0.252196 -0.047566 -0.196465   \n",
       "4  -0.296363  0.056469  0.181658 -0.008337 -0.186595  0.112798 -0.697290   \n",
       "5  -0.196351 -0.086351  0.214765  0.069800  0.475852  0.180314  0.075778   \n",
       "6  -0.096615 -0.120499  0.270151 -0.094557  0.579011  0.194802  0.161091   \n",
       "7  -0.060173 -0.013837 -0.233303 -0.268260 -0.013157  0.635756 -0.176573   \n",
       "8  -0.254030 -0.128815  0.068828  0.287863 -0.025070 -0.422378  0.187480   \n",
       "9  -0.304426  0.041006 -0.060089 -0.058928 -0.223205  0.319725  0.339645   \n",
       "10 -0.213437 -0.053643  0.353320  0.101256  0.244054 -0.132400 -0.388407   \n",
       "11 -0.125277 -0.143190 -0.056599 -0.636953 -0.005560 -0.304898  0.017137   \n",
       "12  0.268714  0.167713  0.035924  0.553931 -0.022838  0.246162 -0.008717   \n",
       "13 -0.363088  0.492485  0.118791  0.000921 -0.117720 -0.032622  0.114170   \n",
       "14 -0.244865  0.227926 -0.578961  0.123666  0.306407 -0.119794 -0.126160   \n",
       "\n",
       "         PC8       PC9      PC10      PC11      PC12      PC13      PC14  \\\n",
       "0   0.087901  0.110376  0.388316 -0.082254 -0.021149  0.004049  0.046567   \n",
       "1  -0.120514  0.065958  0.275960 -0.152319  0.278765 -0.148126  0.459344   \n",
       "2  -0.164684  0.010468  0.221661 -0.117854  0.151800 -0.112766 -0.621126   \n",
       "3   0.218859 -0.130351  0.028418  0.230936 -0.632466  0.318224  0.009164   \n",
       "4   0.032961 -0.365636 -0.172965 -0.364940  0.142790 -0.154154 -0.005490   \n",
       "5   0.453980 -0.384905  0.015103  0.472689  0.215864 -0.117234  0.000693   \n",
       "6  -0.114777 -0.016806 -0.079589 -0.527605 -0.420323  0.142261  0.001605   \n",
       "7   0.334446  0.543563 -0.158225  0.041885 -0.002575 -0.011616 -0.003279   \n",
       "8   0.353560  0.323473 -0.567656 -0.185425  0.098122 -0.144854  0.012956   \n",
       "9  -0.460442 -0.248662 -0.530018  0.245282 -0.096331 -0.083359  0.002032   \n",
       "10 -0.453966  0.461886  0.012338  0.408714 -0.026164 -0.032692  0.012012   \n",
       "11  0.059720 -0.020553  0.101013  0.063510 -0.283829 -0.602254  0.002410   \n",
       "12  0.013929  0.030679  0.074927 -0.015114 -0.347169 -0.634640 -0.004930   \n",
       "13  0.138725  0.070349  0.205238  0.012143 -0.175553  0.108158 -0.059666   \n",
       "14 -0.066459 -0.051593  0.018854 -0.008534 -0.060221  0.001710  0.630082   \n",
       "\n",
       "        PC15          Feature  \n",
       "0  -0.631306             area  \n",
       "1   0.346364         bedrooms  \n",
       "2   0.069063        bathrooms  \n",
       "3   0.005026          stories  \n",
       "4   0.009950         mainroad  \n",
       "5   0.006967        guestroom  \n",
       "6  -0.001238         basement  \n",
       "7   0.000315  hotwaterheating  \n",
       "8   0.007644  airconditioning  \n",
       "9   0.001802          parking  \n",
       "10 -0.002535         prefarea  \n",
       "11  0.010051   semi-furnished  \n",
       "12  0.006770      unfurnished  \n",
       "13  0.686306   areaperbedroom  \n",
       "14 -0.072868          bbratio  "
      ]
     },
     "execution_count": 33,
     "metadata": {},
     "output_type": "execute_result"
    }
   ],
   "source": [
    "pcs_df"
   ]
  },
  {
   "cell_type": "code",
   "execution_count": 34,
   "metadata": {
    "execution": {
     "iopub.execute_input": "2025-09-29T20:28:56.356338Z",
     "iopub.status.busy": "2025-09-29T20:28:56.355402Z",
     "iopub.status.idle": "2025-09-29T20:28:56.360056Z",
     "shell.execute_reply": "2025-09-29T20:28:56.359472Z",
     "shell.execute_reply.started": "2024-11-25T06:03:42.233411Z"
    },
    "papermill": {
     "duration": 0.058384,
     "end_time": "2025-09-29T20:28:56.360182",
     "exception": false,
     "start_time": "2025-09-29T20:28:56.301798",
     "status": "completed"
    },
    "tags": []
   },
   "outputs": [
    {
     "data": {
      "text/plain": [
       "array([2.65769941, 2.18678082, 1.57976787, 1.53994779, 1.43405237,\n",
       "       1.11839734, 0.88874385, 0.83121757, 0.69280095, 0.67809924,\n",
       "       0.61822323, 0.42835294, 0.37164429, 0.01105935, 0.00268666])"
      ]
     },
     "execution_count": 34,
     "metadata": {},
     "output_type": "execute_result"
    }
   ],
   "source": [
    "pca.explained_variance_"
   ]
  },
  {
   "cell_type": "code",
   "execution_count": 35,
   "metadata": {
    "execution": {
     "iopub.execute_input": "2025-09-29T20:28:56.461743Z",
     "iopub.status.busy": "2025-09-29T20:28:56.460819Z",
     "iopub.status.idle": "2025-09-29T20:28:56.464712Z",
     "shell.execute_reply": "2025-09-29T20:28:56.464040Z",
     "shell.execute_reply.started": "2024-11-25T06:03:42.246036Z"
    },
    "papermill": {
     "duration": 0.057326,
     "end_time": "2025-09-29T20:28:56.464834",
     "exception": false,
     "start_time": "2025-09-29T20:28:56.407508",
     "status": "completed"
    },
    "tags": []
   },
   "outputs": [
    {
     "name": "stdout",
     "output_type": "stream",
     "text": [
      "pca.explained_variance_ratio_:  [17.7 14.5 10.5 10.2  9.5  7.4  5.9  5.5  4.6  4.5  4.1  2.8  2.5  0.1\n",
      "  0. ]\n"
     ]
    }
   ],
   "source": [
    "print(\"pca.explained_variance_ratio_: \",pca.explained_variance_ratio_.round(3)*100)"
   ]
  },
  {
   "cell_type": "code",
   "execution_count": 36,
   "metadata": {
    "execution": {
     "iopub.execute_input": "2025-09-29T20:28:56.568874Z",
     "iopub.status.busy": "2025-09-29T20:28:56.568181Z",
     "iopub.status.idle": "2025-09-29T20:28:56.571630Z",
     "shell.execute_reply": "2025-09-29T20:28:56.570935Z",
     "shell.execute_reply.started": "2024-11-25T06:03:42.258325Z"
    },
    "papermill": {
     "duration": 0.059395,
     "end_time": "2025-09-29T20:28:56.571755",
     "exception": false,
     "start_time": "2025-09-29T20:28:56.512360",
     "status": "completed"
    },
    "tags": []
   },
   "outputs": [
    {
     "name": "stdout",
     "output_type": "stream",
     "text": [
      "[0.17671492 0.32211767 0.4271591  0.52955283 0.6249054  0.69926952\n",
      " 0.7583636  0.81363266 0.85969817 0.90478613 0.94589284 0.97437475\n",
      " 0.999086   0.99982136 1.        ]\n"
     ]
    }
   ],
   "source": [
    "print (pca.explained_variance_ratio_.cumsum())"
   ]
  },
  {
   "cell_type": "code",
   "execution_count": 37,
   "metadata": {
    "execution": {
     "iopub.execute_input": "2025-09-29T20:28:56.722239Z",
     "iopub.status.busy": "2025-09-29T20:28:56.721487Z",
     "iopub.status.idle": "2025-09-29T20:28:56.726059Z",
     "shell.execute_reply": "2025-09-29T20:28:56.725558Z",
     "shell.execute_reply.started": "2024-11-25T06:03:42.270905Z"
    },
    "papermill": {
     "duration": 0.05864,
     "end_time": "2025-09-29T20:28:56.726188",
     "exception": false,
     "start_time": "2025-09-29T20:28:56.667548",
     "status": "completed"
    },
    "tags": []
   },
   "outputs": [
    {
     "data": {
      "text/plain": [
       "array([ 17.67,  32.21,  42.71,  52.95,  62.49,  69.93,  75.84,  81.37,\n",
       "        85.98,  90.49,  94.6 ,  97.45,  99.92,  99.99, 100.01])"
      ]
     },
     "execution_count": 37,
     "metadata": {},
     "output_type": "execute_result"
    }
   ],
   "source": [
    "np.cumsum(np.round(pca.explained_variance_ratio_, decimals=4)*100)"
   ]
  },
  {
   "cell_type": "code",
   "execution_count": 38,
   "metadata": {
    "execution": {
     "iopub.execute_input": "2025-09-29T20:28:56.838771Z",
     "iopub.status.busy": "2025-09-29T20:28:56.833528Z",
     "iopub.status.idle": "2025-09-29T20:28:57.009627Z",
     "shell.execute_reply": "2025-09-29T20:28:57.008954Z",
     "shell.execute_reply.started": "2024-11-25T06:03:42.284469Z"
    },
    "papermill": {
     "duration": 0.235348,
     "end_time": "2025-09-29T20:28:57.009794",
     "exception": false,
     "start_time": "2025-09-29T20:28:56.774446",
     "status": "completed"
    },
    "tags": []
   },
   "outputs": [
    {
     "data": {
      "image/png": "[encoded data removed]",
      "text/plain": [
       "<Figure size 864x576 with 1 Axes>"
      ]
     },
     "metadata": {
      "needs_background": "light"
     },
     "output_type": "display_data"
    }
   ],
   "source": [
    "#Making the screeplot - plotting the cumulative variance against the number of components\n",
    "%matplotlib inline\n",
    "fig = plt.figure(figsize = (12,8))\n",
    "plt.plot(np.cumsum(pca.explained_variance_ratio_))\n",
    "plt.vlines(x=10, ymax=1, ymin=0, colors=\"r\", linestyles=\"--\")\n",
    "plt.hlines(y=.946, xmax=15, xmin=0, colors=\"g\", linestyles=\"--\")\n",
    "plt.xlabel('number of components')\n",
    "plt.ylabel('cumulative explained variance')\n",
    "plt.show()"
   ]
  },
  {
   "cell_type": "code",
   "execution_count": 39,
   "metadata": {
    "execution": {
     "iopub.execute_input": "2025-09-29T20:28:57.117903Z",
     "iopub.status.busy": "2025-09-29T20:28:57.116899Z",
     "iopub.status.idle": "2025-09-29T20:28:57.121675Z",
     "shell.execute_reply": "2025-09-29T20:28:57.120965Z",
     "shell.execute_reply.started": "2024-11-25T06:03:42.462621Z"
    },
    "papermill": {
     "duration": 0.061204,
     "end_time": "2025-09-29T20:28:57.121808",
     "exception": false,
     "start_time": "2025-09-29T20:28:57.060604",
     "status": "completed"
    },
    "tags": []
   },
   "outputs": [
    {
     "data": {
      "text/plain": [
       "0.0"
      ]
     },
     "execution_count": 39,
     "metadata": {},
     "output_type": "execute_result"
    }
   ],
   "source": [
    "product = np.dot(pca.components_[0],pca.components_[1])\n",
    "product.round(5)"
   ]
  },
  {
   "cell_type": "code",
   "execution_count": 40,
   "metadata": {
    "execution": {
     "iopub.execute_input": "2025-09-29T20:28:57.234581Z",
     "iopub.status.busy": "2025-09-29T20:28:57.233635Z",
     "iopub.status.idle": "2025-09-29T20:28:57.546711Z",
     "shell.execute_reply": "2025-09-29T20:28:57.546050Z",
     "shell.execute_reply.started": "2024-11-25T06:03:42.470548Z"
    },
    "papermill": {
     "duration": 0.372478,
     "end_time": "2025-09-29T20:28:57.546825",
     "exception": false,
     "start_time": "2025-09-29T20:28:57.174347",
     "status": "completed"
    },
    "tags": []
   },
   "outputs": [
    {
     "data": {
      "image/png": "[encoded data removed]",
      "text/plain": [
       "<Figure size 1440x864 with 1 Axes>"
      ]
     },
     "metadata": {
      "needs_background": "light"
     },
     "output_type": "display_data"
    }
   ],
   "source": [
    "%matplotlib inline\n",
    "fig = plt.figure(figsize = (20,12))\n",
    "plt.scatter(components.PC1, components.PC2)\n",
    "plt.xlabel('Principal Component 1')\n",
    "plt.ylabel('Principal Component 2')\n",
    "for i, txt in enumerate(components.Feature):\n",
    "    plt.annotate(txt, (components.PC1[i],components.PC2[i]))\n",
    "plt.tight_layout()\n",
    "plt.show()"
   ]
  },
  {
   "cell_type": "code",
   "execution_count": 41,
   "metadata": {
    "execution": {
     "iopub.execute_input": "2025-09-29T20:28:57.657892Z",
     "iopub.status.busy": "2025-09-29T20:28:57.656413Z",
     "iopub.status.idle": "2025-09-29T20:28:57.661955Z",
     "shell.execute_reply": "2025-09-29T20:28:57.661257Z",
     "shell.execute_reply.started": "2024-11-25T06:03:42.773076Z"
    },
    "papermill": {
     "duration": 0.063966,
     "end_time": "2025-09-29T20:28:57.662127",
     "exception": false,
     "start_time": "2025-09-29T20:28:57.598161",
     "status": "completed"
    },
    "tags": []
   },
   "outputs": [
    {
     "data": {
      "text/plain": [
       "(381, 15)"
      ]
     },
     "execution_count": 41,
     "metadata": {},
     "output_type": "execute_result"
    }
   ],
   "source": [
    "pca_train = pca.transform(Xtrain)\n",
    "pca_train.shape"
   ]
  },
  {
   "cell_type": "code",
   "execution_count": 42,
   "metadata": {
    "execution": {
     "iopub.execute_input": "2025-09-29T20:28:57.775594Z",
     "iopub.status.busy": "2025-09-29T20:28:57.774641Z",
     "iopub.status.idle": "2025-09-29T20:28:57.778708Z",
     "shell.execute_reply": "2025-09-29T20:28:57.779438Z",
     "shell.execute_reply.started": "2024-11-25T06:03:42.782702Z"
    },
    "papermill": {
     "duration": 0.064139,
     "end_time": "2025-09-29T20:28:57.779626",
     "exception": false,
     "start_time": "2025-09-29T20:28:57.715487",
     "status": "completed"
    },
    "tags": []
   },
   "outputs": [
    {
     "data": {
      "text/plain": [
       "array([[-4.07650137e-01, -3.76445009e-01,  5.41544747e-01, ...,\n",
       "        -2.45191095e-01,  1.27977460e-04, -1.99123301e-02],\n",
       "       [-1.50209846e+00,  1.84984060e+00,  7.25537291e-01, ...,\n",
       "        -3.23926092e-01,  3.61137490e-02,  3.18050729e-02],\n",
       "       [ 1.04677653e+00, -1.19897801e+00,  5.18332899e-01, ...,\n",
       "         2.23579918e-01, -1.44309978e-02, -2.05791459e-02],\n",
       "       ...,\n",
       "       [ 5.84847774e-01, -2.82326920e-01,  1.26929374e-01, ...,\n",
       "         1.05919811e+00, -2.17533491e-02, -5.56099416e-02],\n",
       "       [ 1.44969308e+00, -1.53949149e+00, -2.51816518e-01, ...,\n",
       "         1.41054093e-01, -9.43696717e-03,  1.18186618e-02],\n",
       "       [ 2.05841036e+00, -1.48483175e+00, -6.57679950e-02, ...,\n",
       "         6.41852020e-01,  1.86463404e-03, -3.59698143e-02]])"
      ]
     },
     "execution_count": 42,
     "metadata": {},
     "output_type": "execute_result"
    }
   ],
   "source": [
    "pca_train"
   ]
  },
  {
   "cell_type": "code",
   "execution_count": 43,
   "metadata": {
    "execution": {
     "iopub.execute_input": "2025-09-29T20:28:57.896131Z",
     "iopub.status.busy": "2025-09-29T20:28:57.895217Z",
     "iopub.status.idle": "2025-09-29T20:28:57.903791Z",
     "shell.execute_reply": "2025-09-29T20:28:57.904454Z",
     "shell.execute_reply.started": "2024-11-25T06:03:42.793903Z"
    },
    "papermill": {
     "duration": 0.066643,
     "end_time": "2025-09-29T20:28:57.904644",
     "exception": false,
     "start_time": "2025-09-29T20:28:57.838001",
     "status": "completed"
    },
    "tags": []
   },
   "outputs": [
    {
     "data": {
      "text/plain": [
       "array([[ 1.00000000e+00,  2.03601211e-16, -1.64259140e-16,\n",
       "        -2.31068469e-16,  2.96915497e-16,  5.96510790e-17,\n",
       "        -2.12913609e-16,  9.43534063e-17, -1.68805086e-16,\n",
       "         2.93806124e-17, -1.85990688e-16,  2.19059864e-17,\n",
       "         1.12886289e-16,  4.77163135e-16, -1.66584224e-14],\n",
       "       [ 2.03601211e-16,  1.00000000e+00, -4.42649540e-16,\n",
       "        -1.63031289e-16,  1.92701166e-16, -2.66173373e-16,\n",
       "        -3.08491719e-16,  4.16071412e-17, -2.35467753e-16,\n",
       "         2.87671316e-16,  8.04083819e-17, -7.33549460e-17,\n",
       "         1.39519024e-16, -1.25497657e-15, -3.02838634e-15],\n",
       "       [-1.64259140e-16, -4.42649540e-16,  1.00000000e+00,\n",
       "         2.39765651e-16, -5.27978689e-16,  1.13417908e-16,\n",
       "         3.89581906e-16, -1.92750021e-16, -9.83033731e-17,\n",
       "         4.47134875e-16, -2.55429514e-16,  3.69370713e-17,\n",
       "        -9.91378767e-17,  1.83902855e-15,  6.83452497e-15],\n",
       "       [-2.31068469e-16, -1.63031289e-16,  2.39765651e-16,\n",
       "         1.00000000e+00,  4.39762592e-15,  5.44988057e-16,\n",
       "        -5.31193584e-16,  1.89286767e-16,  2.21761147e-16,\n",
       "        -4.57453536e-18, -4.53941800e-16,  2.87781416e-17,\n",
       "         6.13282261e-16,  1.84698230e-16, -2.22568186e-16],\n",
       "       [ 2.96915497e-16,  1.92701166e-16, -5.27978689e-16,\n",
       "         4.39762592e-15,  1.00000000e+00, -5.62906017e-16,\n",
       "        -2.48443167e-17,  2.31206752e-16, -9.37971986e-17,\n",
       "         5.12854969e-16, -4.89021192e-16, -1.67001843e-16,\n",
       "         2.56129954e-16,  1.32237348e-15,  1.88747789e-15],\n",
       "       [ 5.96510790e-17, -2.66173373e-16,  1.13417908e-16,\n",
       "         5.44988057e-16, -5.62906017e-16,  1.00000000e+00,\n",
       "        -2.57883133e-16, -6.90885472e-17, -4.38125230e-16,\n",
       "        -1.04673449e-16,  3.93526454e-17,  3.63016316e-16,\n",
       "         3.37161343e-16,  4.72863971e-15,  1.17258578e-15],\n",
       "       [-2.12913609e-16, -3.08491719e-16,  3.89581906e-16,\n",
       "        -5.31193584e-16, -2.48443167e-17, -2.57883133e-16,\n",
       "         1.00000000e+00, -5.11584611e-17, -1.13189900e-16,\n",
       "        -1.50539924e-17, -4.79290966e-16,  1.70466857e-16,\n",
       "        -3.61955010e-16,  1.11984283e-16,  5.05229162e-15],\n",
       "       [ 9.43534063e-17,  4.16071412e-17, -1.92750021e-16,\n",
       "         1.89286767e-16,  2.31206752e-16, -6.90885472e-17,\n",
       "        -5.11584611e-17,  1.00000000e+00,  1.90961895e-16,\n",
       "        -4.98118439e-17, -2.23345483e-16,  2.35022606e-17,\n",
       "         1.55595581e-16, -1.70644562e-16,  1.28595563e-15],\n",
       "       [-1.68805086e-16, -2.35467753e-16, -9.83033731e-17,\n",
       "         2.21761147e-16, -9.37971986e-17, -4.38125230e-16,\n",
       "        -1.13189900e-16,  1.90961895e-16,  1.00000000e+00,\n",
       "         7.19528845e-16,  4.72318984e-16,  5.40607480e-16,\n",
       "         1.47400389e-16,  4.33577458e-15,  3.85325751e-15],\n",
       "       [ 2.93806124e-17,  2.87671316e-16,  4.47134875e-16,\n",
       "        -4.57453536e-18,  5.12854969e-16, -1.04673449e-16,\n",
       "        -1.50539924e-17, -4.98118439e-17,  7.19528845e-16,\n",
       "         1.00000000e+00, -5.70367037e-16, -7.80623498e-17,\n",
       "        -1.62957482e-16,  1.73074274e-15,  6.18274518e-15],\n",
       "       [-1.85990688e-16,  8.04083819e-17, -2.55429514e-16,\n",
       "        -4.53941800e-16, -4.89021192e-16,  3.93526454e-17,\n",
       "        -4.79290966e-16, -2.23345483e-16,  4.72318984e-16,\n",
       "        -5.70367037e-16,  1.00000000e+00, -1.81678307e-17,\n",
       "        -3.14513972e-16, -2.17655594e-15, -8.81764188e-16],\n",
       "       [ 2.19059864e-17, -7.33549460e-17,  3.69370713e-17,\n",
       "         2.87781416e-17, -1.67001843e-16,  3.63016316e-16,\n",
       "         1.70466857e-16,  2.35022606e-17,  5.40607480e-16,\n",
       "        -7.80623498e-17, -1.81678307e-17,  1.00000000e+00,\n",
       "         5.74087497e-16, -1.10153492e-15,  2.24781019e-15],\n",
       "       [ 1.12886289e-16,  1.39519024e-16, -9.91378767e-17,\n",
       "         6.13282261e-16,  2.56129954e-16,  3.37161343e-16,\n",
       "        -3.61955010e-16,  1.55595581e-16,  1.47400389e-16,\n",
       "        -1.62957482e-16, -3.14513972e-16,  5.74087497e-16,\n",
       "         1.00000000e+00,  6.76744143e-16, -1.34414464e-15],\n",
       "       [ 4.77163135e-16, -1.25497657e-15,  1.83902855e-15,\n",
       "         1.84698230e-16,  1.32237348e-15,  4.72863971e-15,\n",
       "         1.11984283e-16, -1.70644562e-16,  4.33577458e-15,\n",
       "         1.73074274e-15, -2.17655594e-15, -1.10153492e-15,\n",
       "         6.76744143e-16,  1.00000000e+00,  3.61791973e-16],\n",
       "       [-1.66584224e-14, -3.02838634e-15,  6.83452497e-15,\n",
       "        -2.22568186e-16,  1.88747789e-15,  1.17258578e-15,\n",
       "         5.05229162e-15,  1.28595563e-15,  3.85325751e-15,\n",
       "         6.18274518e-15, -8.81764188e-16,  2.24781019e-15,\n",
       "        -1.34414464e-15,  3.61791973e-16,  1.00000000e+00]])"
      ]
     },
     "execution_count": 43,
     "metadata": {},
     "output_type": "execute_result"
    }
   ],
   "source": [
    "#creating correlation matrix for the principal components\n",
    "corrmat = np.corrcoef(pca_train.transpose())\n",
    "corrmat"
   ]
  },
  {
   "cell_type": "code",
   "execution_count": 44,
   "metadata": {
    "execution": {
     "iopub.execute_input": "2025-09-29T20:28:58.036223Z",
     "iopub.status.busy": "2025-09-29T20:28:58.034336Z",
     "iopub.status.idle": "2025-09-29T20:28:59.056487Z",
     "shell.execute_reply": "2025-09-29T20:28:59.055701Z",
     "shell.execute_reply.started": "2024-11-25T06:03:42.810479Z"
    },
    "papermill": {
     "duration": 1.093729,
     "end_time": "2025-09-29T20:28:59.056657",
     "exception": false,
     "start_time": "2025-09-29T20:28:57.962928",
     "status": "completed"
    },
    "tags": []
   },
   "outputs": [
    {
     "data": {
      "image/png": "[encoded data removed]",
      "text/plain": [
       "<Figure size 1440x720 with 2 Axes>"
      ]
     },
     "metadata": {
      "needs_background": "light"
     },
     "output_type": "display_data"
    }
   ],
   "source": [
    "#plotting the correlation matrix\n",
    "%matplotlib inline\n",
    "plt.figure(figsize = (20,10))\n",
    "sns.heatmap(corrmat,annot = True)\n",
    "plt.show()"
   ]
  },
  {
   "cell_type": "code",
   "execution_count": 45,
   "metadata": {
    "execution": {
     "iopub.execute_input": "2025-09-29T20:28:59.177190Z",
     "iopub.status.busy": "2025-09-29T20:28:59.176411Z",
     "iopub.status.idle": "2025-09-29T20:28:59.179350Z",
     "shell.execute_reply": "2025-09-29T20:28:59.179864Z",
     "shell.execute_reply.started": "2024-11-25T06:03:43.794318Z"
    },
    "papermill": {
     "duration": 0.065051,
     "end_time": "2025-09-29T20:28:59.180047",
     "exception": false,
     "start_time": "2025-09-29T20:28:59.114996",
     "status": "completed"
    },
    "tags": []
   },
   "outputs": [
    {
     "name": "stdout",
     "output_type": "stream",
     "text": [
      "max corr: 6.834524966498482e-15 , min corr:  -1.665842243018755e-14\n"
     ]
    }
   ],
   "source": [
    "# 1s -> 0s in diagonals\n",
    "corrmat_nodiag = corrmat - np.diagflat(corrmat.diagonal())\n",
    "print(\"max corr:\",corrmat_nodiag.max(), \", min corr: \", corrmat_nodiag.min(),)\n",
    "# we see that correlations are indeed very close to 0"
   ]
  },
  {
   "cell_type": "code",
   "execution_count": 46,
   "metadata": {
    "execution": {
     "iopub.execute_input": "2025-09-29T20:28:59.295226Z",
     "iopub.status.busy": "2025-09-29T20:28:59.294468Z",
     "iopub.status.idle": "2025-09-29T20:28:59.302426Z",
     "shell.execute_reply": "2025-09-29T20:28:59.301667Z",
     "shell.execute_reply.started": "2024-11-25T06:03:43.802409Z"
    },
    "papermill": {
     "duration": 0.066803,
     "end_time": "2025-09-29T20:28:59.302554",
     "exception": false,
     "start_time": "2025-09-29T20:28:59.235751",
     "status": "completed"
    },
    "tags": []
   },
   "outputs": [
    {
     "data": {
      "text/plain": [
       "(164, 15)"
      ]
     },
     "execution_count": 46,
     "metadata": {},
     "output_type": "execute_result"
    }
   ],
   "source": [
    "#Applying selected components to the test data - 13 components\n",
    "pca_test = pca.transform(Xtest)\n",
    "pca_test.shape"
   ]
  },
  {
   "cell_type": "code",
   "execution_count": 47,
   "metadata": {
    "execution": {
     "iopub.execute_input": "2025-09-29T20:28:59.422001Z",
     "iopub.status.busy": "2025-09-29T20:28:59.420921Z",
     "iopub.status.idle": "2025-09-29T20:28:59.424335Z",
     "shell.execute_reply": "2025-09-29T20:28:59.423726Z",
     "shell.execute_reply.started": "2024-11-25T06:03:43.821316Z"
    },
    "papermill": {
     "duration": 0.067672,
     "end_time": "2025-09-29T20:28:59.424464",
     "exception": false,
     "start_time": "2025-09-29T20:28:59.356792",
     "status": "completed"
    },
    "tags": []
   },
   "outputs": [],
   "source": [
    "import matplotlib.pyplot as plt\n",
    "import numpy as np\n",
    "from sklearn import  linear_model\n",
    "from sklearn.metrics import mean_squared_error, r2_score\n",
    "# Create linear regression object\n",
    "regrpca = linear_model.LinearRegression()\n",
    "# Train the model using the principal components of the transformed training sets\n",
    "regrpca.fit(pca_train, y_train)\n",
    "# Make predictions using the principal components of the transformed testing set\n",
    "y_pca_pred = regrpca.predict(pca_test)\n"
   ]
  },
  {
   "cell_type": "code",
   "execution_count": 48,
   "metadata": {
    "execution": {
     "iopub.execute_input": "2025-09-29T20:28:59.540961Z",
     "iopub.status.busy": "2025-09-29T20:28:59.540065Z",
     "iopub.status.idle": "2025-09-29T20:28:59.544317Z",
     "shell.execute_reply": "2025-09-29T20:28:59.543640Z",
     "shell.execute_reply.started": "2024-11-25T06:03:43.830761Z"
    },
    "papermill": {
     "duration": 0.065047,
     "end_time": "2025-09-29T20:28:59.544445",
     "exception": false,
     "start_time": "2025-09-29T20:28:59.479398",
     "status": "completed"
    },
    "tags": []
   },
   "outputs": [
    {
     "name": "stdout",
     "output_type": "stream",
     "text": [
      "Mean squared error: 0.00\n"
     ]
    }
   ],
   "source": [
    "print(\"Mean squared error: %.2f\" % mean_squared_error(y_test, y_pca_pred))\n"
   ]
  },
  {
   "cell_type": "code",
   "execution_count": 49,
   "metadata": {
    "execution": {
     "iopub.execute_input": "2025-09-29T20:28:59.663595Z",
     "iopub.status.busy": "2025-09-29T20:28:59.662688Z",
     "iopub.status.idle": "2025-09-29T20:28:59.666791Z",
     "shell.execute_reply": "2025-09-29T20:28:59.666238Z",
     "shell.execute_reply.started": "2024-11-25T06:03:43.844343Z"
    },
    "papermill": {
     "duration": 0.066247,
     "end_time": "2025-09-29T20:28:59.666912",
     "exception": false,
     "start_time": "2025-09-29T20:28:59.600665",
     "status": "completed"
    },
    "tags": []
   },
   "outputs": [
    {
     "name": "stdout",
     "output_type": "stream",
     "text": [
      "R2 score: 0.72\n"
     ]
    }
   ],
   "source": [
    "# Explained variance score: 1 is perfect prediction\n",
    "print('R2 score: %.2f' % r2_score(y_test, y_pca_pred))"
   ]
  },
  {
   "cell_type": "code",
   "execution_count": 50,
   "metadata": {
    "execution": {
     "iopub.execute_input": "2025-09-29T20:28:59.789140Z",
     "iopub.status.busy": "2025-09-29T20:28:59.786329Z",
     "iopub.status.idle": "2025-09-29T20:28:59.792736Z",
     "shell.execute_reply": "2025-09-29T20:28:59.792047Z",
     "shell.execute_reply.started": "2024-11-25T06:03:43.859343Z"
    },
    "papermill": {
     "duration": 0.069495,
     "end_time": "2025-09-29T20:28:59.792870",
     "exception": false,
     "start_time": "2025-09-29T20:28:59.723375",
     "status": "completed"
    },
    "tags": []
   },
   "outputs": [],
   "source": [
    "pca = PCA(n_components=10,random_state=42)\n",
    "#Scale and transform data to get Principal Components\n",
    "\n",
    "Xtrain_reduced = pca.fit_transform(Xtrain)\n",
    "Xtest_reduced = pca.transform(Xtest)\n",
    "regrpca6 = linear_model.LinearRegression()\n",
    "# Train the model using the principal components of the transformed training sets\n",
    "regrpca6.fit(Xtrain_reduced, y_train)\n",
    "# Make predictions using the principal components of the transformed testing set\n",
    "y_pred = regrpca6.predict(Xtest_reduced)\n",
    "\n"
   ]
  },
  {
   "cell_type": "code",
   "execution_count": 51,
   "metadata": {
    "execution": {
     "iopub.execute_input": "2025-09-29T20:28:59.912011Z",
     "iopub.status.busy": "2025-09-29T20:28:59.911108Z",
     "iopub.status.idle": "2025-09-29T20:28:59.915310Z",
     "shell.execute_reply": "2025-09-29T20:28:59.914622Z",
     "shell.execute_reply.started": "2024-11-25T06:03:43.877918Z"
    },
    "papermill": {
     "duration": 0.065836,
     "end_time": "2025-09-29T20:28:59.915444",
     "exception": false,
     "start_time": "2025-09-29T20:28:59.849608",
     "status": "completed"
    },
    "tags": []
   },
   "outputs": [
    {
     "name": "stdout",
     "output_type": "stream",
     "text": [
      "Mean squared error: 0.00\n"
     ]
    }
   ],
   "source": [
    "print(\"Mean squared error: %.2f\" % mean_squared_error(y_test, y_pred))\n"
   ]
  },
  {
   "cell_type": "code",
   "execution_count": 52,
   "metadata": {
    "execution": {
     "iopub.execute_input": "2025-09-29T20:29:00.034713Z",
     "iopub.status.busy": "2025-09-29T20:29:00.033750Z",
     "iopub.status.idle": "2025-09-29T20:29:00.037732Z",
     "shell.execute_reply": "2025-09-29T20:29:00.037098Z",
     "shell.execute_reply.started": "2024-11-25T06:03:43.888618Z"
    },
    "papermill": {
     "duration": 0.066064,
     "end_time": "2025-09-29T20:29:00.037847",
     "exception": false,
     "start_time": "2025-09-29T20:28:59.971783",
     "status": "completed"
    },
    "tags": []
   },
   "outputs": [
    {
     "name": "stdout",
     "output_type": "stream",
     "text": [
      "R2 score: 0.72\n"
     ]
    }
   ],
   "source": [
    "# Explained variance score: 1 is perfect prediction\n",
    "print('R2 score: %.2f' % r2_score(y_test, y_pred))"
   ]
  }
 ],
 "metadata": {
  "kaggle": {
   "accelerator": "none",
   "dataSources": [
    {
     "datasetId": 950606,
     "sourceId": 1610219,
     "sourceType": "datasetVersion"
    }
   ],
   "dockerImageVersionId": 30019,
   "isGpuEnabled": false,
   "isInternetEnabled": false,
   "language": "python",
   "sourceType": "notebook"
  },
  "kernelspec": {
   "display_name": "Python 3",
   "language": "python",
   "name": "python3"
  },
  "language_info": {
   "codemirror_mode": {
    "name": "ipython",
    "version": 3
   },
   "file_extension": ".py",
   "mimetype": "text/x-python",
   "name": "python",
   "nbconvert_exporter": "python",
   "pygments_lexer": "ipython3",
   "version": "3.7.6"
  },
  "papermill": {
   "duration": 14.975296,
   "end_time": "2025-09-29T20:29:00.201489",
   "environment_variables": {},
   "exception": null,
   "input_path": "__notebook__.ipynb",
   "output_path": "__notebook__.ipynb",
   "parameters": {},
   "start_time": "2025-09-29T20:28:45.226193",
   "version": "2.1.0"
  }
 },
 "nbformat": 4,
 "nbformat_minor": 4
}
